{
 "cells": [
  {
   "cell_type": "code",
   "execution_count": 1,
   "metadata": {},
   "outputs": [],
   "source": [
    "%matplotlib inline\n",
    "from matplotlib import style\n",
    "style.use('fivethirtyeight')\n",
    "import matplotlib.pyplot as plt"
   ]
  },
  {
   "cell_type": "code",
   "execution_count": 2,
   "metadata": {},
   "outputs": [],
   "source": [
    "import numpy as np\n",
    "import pandas as pd\n",
    "from datetime import datetime, timedelta"
   ]
  },
  {
   "cell_type": "markdown",
   "metadata": {},
   "source": [
    "# Reflect Tables into SQLAlchemy ORM"
   ]
  },
  {
   "cell_type": "code",
   "execution_count": 3,
   "metadata": {},
   "outputs": [],
   "source": [
    "# Python SQL toolkit and Object Relational Mapper\n",
    "import sqlalchemy\n",
    "from sqlalchemy.ext.automap import automap_base\n",
    "from sqlalchemy.orm import Session\n",
    "from sqlalchemy import create_engine, func"
   ]
  },
  {
   "cell_type": "code",
   "execution_count": 4,
   "metadata": {},
   "outputs": [],
   "source": [
    "# create engine to hawaii.sqlite\n",
    "engine = create_engine(\"sqlite:///Resources/hawaii.sqlite\")"
   ]
  },
  {
   "cell_type": "code",
   "execution_count": 5,
   "metadata": {},
   "outputs": [],
   "source": [
    "# reflect an existing database into a new model\n",
    "Base = automap_base()\n",
    "\n",
    "# reflect the tables\n",
    "Base.prepare(autoload_with=engine)"
   ]
  },
  {
   "cell_type": "code",
   "execution_count": 6,
   "metadata": {},
   "outputs": [
    {
     "data": {
      "text/plain": [
       "['measurement', 'station']"
      ]
     },
     "execution_count": 6,
     "metadata": {},
     "output_type": "execute_result"
    }
   ],
   "source": [
    "# View all of the classes that automap found\n",
    "Base.classes.keys()"
   ]
  },
  {
   "cell_type": "code",
   "execution_count": 7,
   "metadata": {},
   "outputs": [],
   "source": [
    "# Save references to each table\n",
    "Meas = Base.classes.measurement\n",
    "Station = Base.classes.station"
   ]
  },
  {
   "cell_type": "code",
   "execution_count": 8,
   "metadata": {},
   "outputs": [],
   "source": [
    "# Create our session (link) from Python to the DB\n",
    "session = Session(engine)\n"
   ]
  },
  {
   "cell_type": "markdown",
   "metadata": {},
   "source": [
    "# Exploratory Precipitation Analysis"
   ]
  },
  {
   "cell_type": "code",
   "execution_count": 9,
   "metadata": {},
   "outputs": [
    {
     "name": "stdout",
     "output_type": "stream",
     "text": [
      "[1, 'USC00519397', '2010-01-01', 0.08, 65.0]\n",
      "[2, 'USC00519397', '2010-01-02', 0.0, 63.0]\n",
      "[3, 'USC00519397', '2010-01-03', 0.0, 74.0]\n",
      "[4, 'USC00519397', '2010-01-04', 0.0, 76.0]\n",
      "[5, 'USC00519397', '2010-01-06', None, 73.0]\n",
      "[6, 'USC00519397', '2010-01-07', 0.06, 70.0]\n",
      "[7, 'USC00519397', '2010-01-08', 0.0, 64.0]\n",
      "[8, 'USC00519397', '2010-01-09', 0.0, 68.0]\n",
      "[9, 'USC00519397', '2010-01-10', 0.0, 73.0]\n",
      "[10, 'USC00519397', '2010-01-11', 0.01, 64.0]\n",
      "[11, 'USC00519397', '2010-01-12', 0.0, 61.0]\n",
      "[12, 'USC00519397', '2010-01-14', 0.0, 66.0]\n",
      "[13, 'USC00519397', '2010-01-15', 0.0, 65.0]\n",
      "[14, 'USC00519397', '2010-01-16', 0.0, 68.0]\n",
      "[15, 'USC00519397', '2010-01-17', 0.0, 64.0]\n"
     ]
    }
   ],
   "source": [
    "#Display the first 5 rows in Measurement table: \n",
    "record = session.query(Meas).first()\n",
    "record.__dict__\n",
    "for record in session.query(Meas).limit(15).all():\n",
    "    print([record.id, record.station, record.date,record.prcp, record.tobs])"
   ]
  },
  {
   "cell_type": "code",
   "execution_count": 10,
   "metadata": {},
   "outputs": [
    {
     "name": "stdout",
     "output_type": "stream",
     "text": [
      "[-157.8168, 'USC00519397', 'WAIKIKI 717.2, HI US', 21.2716, 1, 3.0]\n",
      "[-157.8015, 'USC00513117', 'KANEOHE 838.1, HI US', 21.4234, 2, 14.6]\n",
      "[-157.8374, 'USC00514830', 'KUALOA RANCH HEADQUARTERS 886.9, HI US', 21.5213, 3, 7.0]\n",
      "[-157.9751, 'USC00517948', 'PEARL CITY, HI US', 21.3934, 4, 11.9]\n",
      "[-158.0111, 'USC00518838', 'UPPER WAHIAWA 874.3, HI US', 21.4992, 5, 306.6]\n",
      "[-157.71139, 'USC00519523', 'WAIMANALO EXPERIMENTAL FARM, HI US', 21.33556, 6, 19.5]\n",
      "[-157.84888999999998, 'USC00519281', 'WAIHEE 837.5, HI US', 21.45167, 7, 32.9]\n",
      "[-157.9992, 'USC00511918', 'HONOLULU OBSERVATORY 702.2, HI US', 21.3152, 8, 0.9]\n",
      "[-157.8025, 'USC00516128', 'MANOA LYON ARBO 785.2, HI US', 21.3331, 9, 152.4]\n"
     ]
    }
   ],
   "source": [
    "#Display the first 5 rows in Station table: \n",
    "record_st = session.query(Station).first()\n",
    "record_st.__dict__\n",
    "for record in session.query(Station).limit(15).all():\n",
    "    print([record.longitude, record.station, record.name,record.latitude, record.id, record.elevation])"
   ]
  },
  {
   "cell_type": "code",
   "execution_count": 11,
   "metadata": {},
   "outputs": [
    {
     "name": "stdout",
     "output_type": "stream",
     "text": [
      "2017-08-23\n"
     ]
    }
   ],
   "source": [
    "# Find the most recent date in the data set.\n",
    "recent_date_query = session.query(func.max(Meas.date))\n",
    "recent_date = recent_date_query.scalar()\n",
    "print(recent_date)"
   ]
  },
  {
   "cell_type": "code",
   "execution_count": 62,
   "metadata": {},
   "outputs": [
    {
     "name": "stdout",
     "output_type": "stream",
     "text": [
      "2017-08-23 00:00:00\n",
      "2016-08-23 00:00:00\n",
      "      Precipitation        Date\n",
      "0              0.08  2016-08-24\n",
      "1006            NaN  2016-08-24\n",
      "1524           2.15  2016-08-24\n",
      "702            2.28  2016-08-24\n",
      "360            2.15  2016-08-24\n",
      "...             ...         ...\n",
      "1522           0.00  2017-08-22\n",
      "1523           0.08  2017-08-23\n",
      "359            0.00  2017-08-23\n",
      "1005           0.00  2017-08-23\n",
      "2222           0.45  2017-08-23\n",
      "\n",
      "[2223 rows x 2 columns]\n"
     ]
    }
   ],
   "source": [
    "# Design a query to retrieve the last 12 months of precipitation data and plot the results. \n",
    "# Starting from the most recent data point in the database. \n",
    "\n",
    "# Calculate the date one year from the last date in data set.\n",
    "if recent_date: \n",
    "    recent_date = datetime.strptime(str(recent_date), \"%Y-%m-%d %H:%M:%S\")\n",
    "    one_year_earlier = recent_date - timedelta(days=365)\n",
    "    print(recent_date)\n",
    "    print(one_year_earlier)\n",
    "\n",
    "# Perform a query to retrieve the data and precipitation scores\n",
    "    weather = session.query(Meas.prcp, Meas.date).filter(Meas.date.between(one_year_earlier, recent_date)).all()\n",
    "    \n",
    "    if weather:\n",
    "        #for record in weather:\n",
    "            #print(record)\n",
    "\n",
    "# Save the query results as a Pandas DataFrame. Explicitly set the column names\n",
    "        if weather: \n",
    "            weather_df = pd.DataFrame(weather, columns=['Precipitation', 'Date'])\n",
    "\n",
    "# Sort the dataframe by date\n",
    "            weather_df = weather_df.sort_values(by='Date')\n",
    "            print(weather_df)\n",
    "        \n"
   ]
  },
  {
   "cell_type": "code",
   "execution_count": 110,
   "metadata": {},
   "outputs": [
    {
     "data": {
      "image/png": "[encoded data removed]",
      "text/plain": [
       "<Figure size 1000x600 with 1 Axes>"
      ]
     },
     "metadata": {},
     "output_type": "display_data"
    }
   ],
   "source": [
    "# Use Pandas Plotting with Matplotlib to plot the data. \n",
    "weather_df['Date'] = pd.to_datetime(weather_df['Date'])\n",
    "\n",
    "plt.figure(figsize=(10, 6))\n",
    "plt.bar(weather_df['Date'], weather_df['Precipitation'], width=3.0, align='center')\n",
    "plt.xlabel('Date')\n",
    "plt.ylabel('Precipitation')\n",
    "plt.title('Precipitation Histogram by Date')\n",
    "plt.xticks(rotation=90)\n",
    "plt.tight_layout()\n",
    "plt.show()\n"
   ]
  },
  {
   "cell_type": "code",
   "execution_count": 94,
   "metadata": {
    "scrolled": true
   },
   "outputs": [
    {
     "name": "stdout",
     "output_type": "stream",
     "text": [
      "       Precipitation\n",
      "count    2015.000000\n",
      "mean        0.176462\n",
      "std         0.460288\n",
      "min         0.000000\n",
      "25%         0.000000\n",
      "50%         0.020000\n",
      "75%         0.130000\n",
      "max         6.700000\n"
     ]
    }
   ],
   "source": [
    "# Use Pandas to calculate the summary statistics for the precipitation data\n",
    "\n",
    "#create summary statistics\n",
    "count = weather_df['Precipitation'].count()\n",
    "mean = weather_df['Precipitation'].mean()\n",
    "std = weather_df['Precipitation'].std()\n",
    "w_min = weather_df['Precipitation'].min()\n",
    "w_max = weather_df['Precipitation'].max()\n",
    "w_25 = weather_df['Precipitation'].quantile(0.25)\n",
    "w_50 = weather_df['Precipitation'].quantile(0.50)\n",
    "w_75 = weather_df['Precipitation'].quantile(0.75)\n",
    "\n",
    "#Assemble into a single summary DF \n",
    "summary1_dict = {'count': count, 'mean' : mean,'std': std, 'min' : w_min, '25%' : w_25, '50%' : w_50, '75%' : w_75, 'max' : w_max}\n",
    "summary1=pd.DataFrame([summary1_dict])\n",
    "\n",
    "#Transpose the summary table\n",
    "summary1_transposed = summary1.T\n",
    "summary1_transposed.columns = ['Precipitation']\n",
    "print(summary1_transposed)"
   ]
  },
  {
   "cell_type": "markdown",
   "metadata": {},
   "source": [
    "# Exploratory Station Analysis"
   ]
  },
  {
   "cell_type": "code",
   "execution_count": 115,
   "metadata": {},
   "outputs": [
    {
     "name": "stdout",
     "output_type": "stream",
     "text": [
      "9\n"
     ]
    }
   ],
   "source": [
    "# Design a query to calculate the total number of stations in the dataset\n",
    "total_stations_query = session.query(func.count(func.distinct(Station.station)))\n",
    "total_stations = total_stations_query.scalar()\n",
    "print(total_stations)"
   ]
  },
  {
   "cell_type": "code",
   "execution_count": 15,
   "metadata": {},
   "outputs": [],
   "source": [
    "# Design a query to find the most active stations (i.e. which stations have the most rows?)\n",
    "# List the stations and their counts in descending order.\n"
   ]
  },
  {
   "cell_type": "code",
   "execution_count": 16,
   "metadata": {},
   "outputs": [],
   "source": [
    "# Using the most active station id from the previous query, calculate the lowest, highest, and average temperature.\n"
   ]
  },
  {
   "cell_type": "code",
   "execution_count": 17,
   "metadata": {},
   "outputs": [],
   "source": [
    "# Using the most active station id\n",
    "# Query the last 12 months of temperature observation data for this station and plot the results as a histogram\n"
   ]
  },
  {
   "cell_type": "markdown",
   "metadata": {},
   "source": [
    "# Close Session"
   ]
  },
  {
   "cell_type": "code",
   "execution_count": 18,
   "metadata": {},
   "outputs": [],
   "source": [
    "# Close Session\n",
    "session.close()"
   ]
  },
  {
   "cell_type": "code",
   "execution_count": null,
   "metadata": {},
   "outputs": [],
   "source": []
  }
 ],
 "metadata": {
  "anaconda-cloud": {},
  "kernel_info": {
   "name": "python3"
  },
  "kernelspec": {
   "display_name": "Python 3 (ipykernel)",
   "language": "python",
   "name": "python3"
  },
  "language_info": {
   "codemirror_mode": {
    "name": "ipython",
    "version": 3
   },
   "file_extension": ".py",
   "mimetype": "text/x-python",
   "name": "python",
   "nbconvert_exporter": "python",
   "pygments_lexer": "ipython3",
   "version": "3.11.5"
  },
  "nteract": {
   "version": "0.12.3"
  },
  "varInspector": {
   "cols": {
    "lenName": 16,
    "lenType": 16,
    "lenVar": 40
   },
   "kernels_config": {
    "python": {
     "delete_cmd_postfix": "",
     "delete_cmd_prefix": "del ",
     "library": "var_list.py",
     "varRefreshCmd": "print(var_dic_list())"
    },
    "r": {
     "delete_cmd_postfix": ") ",
     "delete_cmd_prefix": "rm(",
     "library": "var_list.r",
     "varRefreshCmd": "cat(var_dic_list()) "
    }
   },
   "types_to_exclude": [
    "module",
    "function",
    "builtin_function_or_method",
    "instance",
    "_Feature"
   ],
   "window_display": false
  }
 },
 "nbformat": 4,
 "nbformat_minor": 2
}
